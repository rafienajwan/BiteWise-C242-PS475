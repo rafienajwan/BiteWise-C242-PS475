{
 "cells": [
  {
   "cell_type": "code",
   "execution_count": 1,
   "metadata": {},
   "outputs": [],
   "source": [
    "import json\n",
    "from datetime import datetime, timedelta\n",
    "import numpy as np\n",
    "import tensorflow as tf\n",
    "from tensorflow.keras.models import Sequential\n",
    "from tensorflow.keras.layers import Dense\n"
   ]
  },
  {
   "cell_type": "code",
   "execution_count": 2,
   "metadata": {},
   "outputs": [],
   "source": [
    "# Load data makanan\n",
    "with open(\"food_data.json\", \"r\") as f:\n",
    "    food_data = json.load(f)\n",
    "\n",
    "# Konversi ke dictionary\n",
    "food_dict = {item[\"name\"]: item for item in food_data}\n",
    "\n",
    "# Load tracker memory\n",
    "with open(\"result/tracker_memory.json\", \"r\") as f:\n",
    "    tracker_memory = json.load(f)\n",
    "\n",
    "# Konversi tracker memory ke log list\n",
    "all_logs = []\n",
    "for date, entries in tracker_memory.items():\n",
    "    if isinstance(entries, list):  # Validasi entries adalah list\n",
    "        for entry in entries:\n",
    "            if isinstance(entry, dict):  # Validasi entry adalah dict\n",
    "                entry[\"date\"] = date\n",
    "                all_logs.append(entry)"
   ]
  },
  {
   "cell_type": "code",
   "execution_count": 3,
   "metadata": {},
   "outputs": [],
   "source": [
    "# Filter log 1 bulan terakhir\n",
    "one_month_ago = datetime.now() - timedelta(days=30)\n",
    "recent_logs = [\n",
    "    log\n",
    "    for log in all_logs\n",
    "    if datetime.fromisoformat(f\"{log['date']}T{log['time']}\") > one_month_ago\n",
    "]\n",
    "\n",
    "# Hitung frekuensi pemanggilan menu\n",
    "menu_frequency = {}\n",
    "for log in recent_logs:\n",
    "    food_name = log.get(\"food_name\")\n",
    "    if food_name:\n",
    "        menu_frequency[food_name] = menu_frequency.get(food_name, 0) + 1"
   ]
  },
  {
   "cell_type": "code",
   "execution_count": 8,
   "metadata": {},
   "outputs": [],
   "source": [
    "# Fungsi rekomendasi\n",
    "def recommend_meals(user_target_calories, user_target_protein, current_time=None):\n",
    "    if current_time is None:\n",
    "        current_time = datetime.now()\n",
    "\n",
    "    # Tentukan waktu makan dan alokasi kalori\n",
    "    if current_time.hour < 10:\n",
    "        meal_time = \"Sarapan\"\n",
    "        calorie_allocation = user_target_calories * 0.22\n",
    "    elif 10 <= current_time.hour < 15:\n",
    "        meal_time = \"Makan Siang\"\n",
    "        calorie_allocation = user_target_calories * 0.31\n",
    "    else:\n",
    "        meal_time = \"Makan Malam\"\n",
    "        calorie_allocation = user_target_calories * 0.35\n",
    "\n",
    "    print(f\"Waktu makan: {meal_time}, Alokasi kalori: {calorie_allocation:.2f} kcal\")\n",
    "    # Rekomendasi menu\n",
    "    recommendations = []\n",
    "    for food_name, details in food_dict.items():\n",
    "        # Pastikan tidak lebih dari 2 kali\n",
    "        if menu_frequency.get(food_name, 0) >= 2:\n",
    "            continue\n",
    "\n",
    "        # Hitung porsi sesuai alokasi kalori\n",
    "        calories = details.get(\"calories\", 0)\n",
    "        if calories <= 0:\n",
    "            continue\n",
    "\n",
    "        portion_ratio = calorie_allocation / calories\n",
    "        portion_weight = portion_ratio * 100  # Dalam gram\n",
    "\n",
    "        # Pastikan porsi dalam batas wajar (misal 50g - 500g)\n",
    "        if 50 <= portion_weight <= 500:\n",
    "            recommendations.append(\n",
    "                {\n",
    "                    \"food_name\": food_name,\n",
    "                    \"portion_weight\": round(portion_weight, 1),\n",
    "                    \"calories\": round(portion_weight / 100 * calories, 1),\n",
    "                    \"protein\": round(portion_weight / 100 * details.get(\"proteins\", 0), 1),\n",
    "                    \"fat\": round(portion_weight / 100 * details.get(\"fat\", 0), 1),\n",
    "                    \"carbs\": round(portion_weight / 100 * details.get(\"carbohydrate\", 0), 1),\n",
    "                }\n",
    "            )\n",
    "\n",
    "    # Urutkan rekomendasi berdasarkan protein, kemudian kalori\n",
    "    recommendations.sort(key=lambda x: (-x[\"protein\"], -x[\"calories\"]))\n",
    "    return recommendations"
   ]
  },
  {
   "cell_type": "code",
   "execution_count": 9,
   "metadata": {},
   "outputs": [],
   "source": [
    "# TensorFlow Model untuk Vertex AI\n",
    "def build_tensorflow_model(input_dim):\n",
    "    model = Sequential([\n",
    "        Dense(64, activation=\"relu\", input_dim=input_dim),\n",
    "        Dense(32, activation=\"relu\"),\n",
    "        Dense(3, activation=\"softmax\")  # Output: 3 kelas (sarapan, siang, malam)\n",
    "    ])\n",
    "    model.compile(optimizer=\"adam\", loss=\"categorical_crossentropy\", metrics=[\"accuracy\"])\n",
    "    return model"
   ]
  },
  {
   "cell_type": "code",
   "execution_count": 11,
   "metadata": {},
   "outputs": [],
   "source": [
    "# TensorFlow Model untuk Vertex AI\n",
    "def build_tensorflow_model(input_dim):\n",
    "    model = Sequential([\n",
    "        Dense(64, activation=\"relu\", input_dim=input_dim),\n",
    "        Dense(32, activation=\"relu\"),\n",
    "        Dense(3, activation=\"softmax\")  # Output: 3 kelas (sarapan, siang, malam)\n",
    "    ])\n",
    "    model.compile(optimizer=\"adam\", loss=\"categorical_crossentropy\", metrics=[\"accuracy\"])\n",
    "    return model"
   ]
  },
  {
   "cell_type": "code",
   "execution_count": 15,
   "metadata": {},
   "outputs": [],
   "source": [
    "def train_recommendation_model(food_data, tracker_memory):\n",
    "    # Dataset untuk model rekomendasi\n",
    "    X = []\n",
    "    y = []\n",
    "    for date, entries in tracker_memory.items():\n",
    "        for entry in entries:\n",
    "            food_name = entry[\"food_name\"]\n",
    "            if food_name in food_dict:\n",
    "                food_info = food_dict[food_name]\n",
    "                # Input: Nutrisi makanan\n",
    "                X.append([food_info[\"calories\"], food_info[\"proteins\"], food_info[\"fat\"], food_info[\"carbohydrate\"]])\n",
    "                # Label: Waktu makan (0: Sarapan, 1: Siang, 2: Malam)\n",
    "                time = datetime.strptime(entry[\"time\"], \"%H:%M:%S\").hour\n",
    "                if time < 10:\n",
    "                    y.append(0)\n",
    "                elif 10 <= time < 15:\n",
    "                    y.append(1)\n",
    "                else:\n",
    "                    y.append(2)\n",
    "\n",
    "    if len(X) == 0:\n",
    "        raise ValueError(\"Data latih tidak cukup untuk pelatihan model\")\n",
    "\n",
    "    X = np.array(X)\n",
    "    y = tf.keras.utils.to_categorical(y, num_classes=3)\n",
    "\n",
    "    # Build dan Train Model\n",
    "    model = build_tensorflow_model(X.shape[1])\n",
    "    model.fit(X, y, epochs=10, batch_size=8, verbose=1)\n",
    "    return model"
   ]
  },
  {
   "cell_type": "code",
   "execution_count": 22,
   "metadata": {},
   "outputs": [
    {
     "name": "stdout",
     "output_type": "stream",
     "text": [
      "Waktu makan: Sarapan, Alokasi kalori: 440.00 kcal\n",
      "Rekomendasi menu:\n",
      "{'food_name': 'Ragi', 'portion_weight': 323.5, 'calories': 440.0, 'protein': 139.1, 'fat': 7.8, 'carbs': 9.7}\n",
      "{'food_name': 'Ikan kayu kering', 'portion_weight': 145.7, 'calories': 440.0, 'protein': 103.0, 'fat': 2.8, 'carbs': 0.6}\n",
      "{'food_name': 'Udang segar', 'portion_weight': 483.5, 'calories': 440.0, 'protein': 101.5, 'fat': 1.0, 'carbs': 0.5}\n",
      "{'food_name': 'Ikan lehoma segar', 'portion_weight': 488.9, 'calories': 440.0, 'protein': 99.7, 'fat': 4.4, 'carbs': 0.0}\n",
      "{'food_name': 'Ikan Teri Nasi kering', 'portion_weight': 305.6, 'calories': 440.0, 'protein': 99.3, 'fat': 1.8, 'carbs': 0.0}\n",
      "Error: Data latih tidak cukup untuk pelatihan model\n"
     ]
    }
   ],
   "source": [
    "# Contoh penggunaan rekomendasi\n",
    "user_target_calories = 2000  # Target kalori harian\n",
    "user_target_protein = 75  # Target protein harian\n",
    "\n",
    "recommendations = recommend_meals(user_target_calories, user_target_protein)\n",
    "print(\"Rekomendasi menu:\")\n",
    "for rec in recommendations[:5]:  # Batasi 5 rekomendasi\n",
    "    print(rec)\n",
    "\n",
    "# Training model TensorFlow\n",
    "try:\n",
    "    trained_model = train_recommendation_model(food_dict, tracker_memory)\n",
    "\n",
    "    # Simpan model untuk Vertex AI\n",
    "    trained_model.save(\"result/recommendation_model\")\n",
    "    print(\"Model berhasil disimpan!\")\n",
    "except ValueError as e:\n",
    "    print(f\"Error: {e}\")"
   ]
  }
 ],
 "metadata": {
  "kernelspec": {
   "display_name": "Python 3",
   "language": "python",
   "name": "python3"
  },
  "language_info": {
   "codemirror_mode": {
    "name": "ipython",
    "version": 3
   },
   "file_extension": ".py",
   "mimetype": "text/x-python",
   "name": "python",
   "nbconvert_exporter": "python",
   "pygments_lexer": "ipython3",
   "version": "3.9.12"
  }
 },
 "nbformat": 4,
 "nbformat_minor": 2
}
