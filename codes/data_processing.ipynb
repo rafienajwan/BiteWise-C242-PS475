{
 "cells": [
  {
   "cell_type": "code",
   "execution_count": 1,
   "metadata": {},
   "outputs": [],
   "source": [
    "import json\n",
    "from collections import defaultdict"
   ]
  },
  {
   "cell_type": "code",
   "execution_count": 7,
   "metadata": {},
   "outputs": [],
   "source": [
    "input_file = \"food_data.json\"  \n",
    "output_file = \"result/search unique.json\"\n",
    "\n",
    "with open(input_file, \"r\") as file:\n",
    "    data = json.load(file)"
   ]
  },
  {
   "cell_type": "code",
   "execution_count": 8,
   "metadata": {},
   "outputs": [],
   "source": [
    "unique_data = {}\n",
    "for item in data:\n",
    "    name = item[\"name\"]\n",
    "    if name not in unique_data:\n",
    "        unique_data[name] = item\n",
    "\n",
    "# Convert back to a list\n",
    "filtered_data = list(unique_data.values())\n",
    "\n",
    "# Step 3: Transform to the desired format\n",
    "transformed_data = defaultdict(list)\n"
   ]
  },
  {
   "cell_type": "code",
   "execution_count": 9,
   "metadata": {},
   "outputs": [],
   "source": [
    "for item in filtered_data:\n",
    "    transformed_data[item[\"name\"]].append({\n",
    "        \"food_description\": (\n",
    "            f\"Calories: {item['calories']}kcal | \"\n",
    "            f\"Fat: {item['fat']}g | \"\n",
    "            f\"Carbs: {item['carbohydrate']}g | \"\n",
    "            f\"Protein: {item['proteins']}g\"\n",
    "        ),\n",
    "        \"food_id\": str(item[\"id\"]),\n",
    "        \"food_name\": item[\"name\"],\n",
    "        \"food_type\": \"Generic\",  # Assumes all are generic for now\n",
    "        \"food_url\": item[\"image\"]  # Use the image URL as a placeholder for the food URL\n",
    "    })"
   ]
  },
  {
   "cell_type": "code",
   "execution_count": 10,
   "metadata": {},
   "outputs": [
    {
     "name": "stdout",
     "output_type": "stream",
     "text": [
      "Data processed and saved to result/search unique.json\n"
     ]
    }
   ],
   "source": [
    "with open(output_file, \"w\") as file:\n",
    "    json.dump(transformed_data, file, indent=4)\n",
    "\n",
    "print(f\"Data processed and saved to {output_file}\")"
   ]
  }
 ],
 "metadata": {
  "kernelspec": {
   "display_name": "Python 3",
   "language": "python",
   "name": "python3"
  },
  "language_info": {
   "codemirror_mode": {
    "name": "ipython",
    "version": 3
   },
   "file_extension": ".py",
   "mimetype": "text/x-python",
   "name": "python",
   "nbconvert_exporter": "python",
   "pygments_lexer": "ipython3",
   "version": "3.9.12"
  }
 },
 "nbformat": 4,
 "nbformat_minor": 2
}
