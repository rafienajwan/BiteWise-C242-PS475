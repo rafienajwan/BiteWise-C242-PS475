{
 "cells": [
  {
   "cell_type": "code",
   "execution_count": 1,
   "metadata": {},
   "outputs": [],
   "source": [
    "import json\n",
    "from collections import defaultdict"
   ]
  },
  {
   "cell_type": "code",
   "execution_count": 7,
   "metadata": {},
   "outputs": [],
   "source": [
    "input_file = \"food_data.json\"  \n",
    "output_file = \"result/search unique.json\"\n",
    "\n",
    "with open(input_file, \"r\") as file:\n",
    "    data = json.load(file)"
   ]
  },
  {
   "cell_type": "code",
   "execution_count": 8,
   "metadata": {},
   "outputs": [],
   "source": [
    "unique_data = {}\n",
    "for item in data:\n",
    "    name = item[\"name\"]\n",
    "    if name not in unique_data:\n",
    "        unique_data[name] = item\n",
    "\n",
    "# Convert back to a list\n",
    "filtered_data = list(unique_data.values())\n",
    "\n",
    "# Step 3: Transform to the desired format\n",
    "transformed_data = defaultdict(list)\n"
   ]
  },
  {
   "cell_type": "code",
   "execution_count": 9,
   "metadata": {},
   "outputs": [],
   "source": [
    "for item in filtered_data:\n",
    "    transformed_data[item[\"name\"]].append({\n",
    "        \"food_description\": (\n",
    "            f\"Calories: {item['calories']}kcal | \"\n",
    "            f\"Fat: {item['fat']}g | \"\n",
    "            f\"Carbs: {item['carbohydrate']}g | \"\n",
    "            f\"Protein: {item['proteins']}g\"\n",
    "        ),\n",
    "        \"food_id\": str(item[\"id\"]),\n",
    "        \"food_name\": item[\"name\"],\n",
    "        \"food_type\": \"Generic\",  # Assumes all are generic for now\n",
    "        \"food_url\": item[\"image\"]  # Use the image URL as a placeholder for the food URL\n",
    "    })"
   ]
  },
  {
   "cell_type": "code",
   "execution_count": 10,
   "metadata": {},
   "outputs": [
    {
     "name": "stdout",
     "output_type": "stream",
     "text": [
      "Data processed and saved to result/search unique.json\n"
     ]
    }
   ],
   "source": [
    "with open(output_file, \"w\") as file:\n",
    "    json.dump(transformed_data, file, indent=4)\n",
    "\n",
    "print(f\"Data processed and saved to {output_file}\")"
   ]
  },
  {
   "cell_type": "code",
   "execution_count": 1,
   "metadata": {},
   "outputs": [
    {
     "name": "stdout",
     "output_type": "stream",
     "text": [
      "Atribut 'active' berhasil ditambahkan ke semua data!\n"
     ]
    }
   ],
   "source": [
    "import json\n",
    "import random\n",
    "\n",
    "# Pilihan untuk atribut \"active\"\n",
    "active_levels = [\"sedentary\", \"average\", \"active\"]\n",
    "\n",
    "# Membaca data dari file JSON\n",
    "with open('../result/user_data.json', 'r') as file:\n",
    "    data = json.load(file)\n",
    "\n",
    "# Menambahkan atribut \"active\" ke setiap entri\n",
    "for user in data:\n",
    "    user['active'] = random.choice(active_levels)  # Menambahkan atribut \"active\" dengan nilai acak\n",
    "\n",
    "# Menyimpan kembali data ke dalam file JSON\n",
    "with open('../result/user_data.json', 'w') as file:\n",
    "    json.dump(data, file, indent=4)\n",
    "\n",
    "print(\"Atribut 'active' berhasil ditambahkan ke semua data!\")"
   ]
  },
  {
   "cell_type": "code",
   "execution_count": 9,
   "metadata": {},
   "outputs": [
    {
     "name": "stdout",
     "output_type": "stream",
     "text": [
      "Target disesuaikan berdasarkan kebutuhan normal!\n"
     ]
    }
   ],
   "source": [
    "def calculate_targets(weight, tall, goal_weight, activity_level, gender, age):\n",
    "    # Menghapus teks yang tidak perlu dan memastikan semua input adalah tipe data yang benar\n",
    "    weight = float(weight.replace(' kg', '').replace('kg', '').strip())\n",
    "    tall = float(tall.replace(' cm', '').replace('cm', '').strip())\n",
    "    age = int(age)\n",
    "\n",
    "    # Menghitung BMR (Basal Metabolic Rate) menggunakan rumus Mifflin-St Jeor\n",
    "    if gender == 'male':\n",
    "        bmr = 10 * weight + 6.25 * tall - 5 * age + 5\n",
    "    else:\n",
    "        bmr = 10 * weight + 6.25 * tall - 5 * age - 161\n",
    "\n",
    "    # Menghitung Total Daily Energy Expenditure (TDEE) berdasarkan level aktivitas\n",
    "    activity_multiplier = {\n",
    "        \"sedentary\": 1.2,\n",
    "        \"average\": 1.55,\n",
    "        \"active\": 1.9\n",
    "    }\n",
    "    tdee = bmr * activity_multiplier[activity_level]\n",
    "\n",
    "    # Menentukan target kalori berdasarkan tujuan berat badan\n",
    "    if goal_weight > weight:\n",
    "        target_calories = tdee + 500  # surplus untuk penambahan berat badan\n",
    "    else:\n",
    "        target_calories = tdee - 500  # defisit untuk penurunan berat badan\n",
    "\n",
    "    # Menghitung target makronutrien\n",
    "    target_proteins = int(target_calories * 0.3 / 4)  # 30% dari kalori dari protein\n",
    "    target_fats = int(target_calories * 0.25 / 9)     # 25% dari kalori dari lemak\n",
    "    target_carbs = int(target_calories * 0.45 / 4)     # 45% dari kalori dari karbohidrat\n",
    "\n",
    "    return target_proteins, target_fats, target_carbs, target_calories\n",
    "\n",
    "# Menggunakan fungsi untuk setiap pengguna\n",
    "for user in data:\n",
    "    weight = user['weight']\n",
    "    tall = user['tall']  # Pastikan ini adalah tinggi badan dalam cm\n",
    "    goal_weight = user['goal_weight']\n",
    "    activity_level = user['active']\n",
    "    gender = user['gender']  # Pastikan ada atribut gender dalam data\n",
    "    age = user['age']        # Pastikan ada atribut age dalam data\n",
    "    \n",
    "    user['target_proteins'], user['target_fats'], user['target_carbs'], user['target_calories'] = calculate_targets(weight, tall, goal_weight, activity_level, gender, age)\n",
    "\n",
    "# Menyimpan kembali data ke dalam file JSON\n",
    "with open('../result/user_data.json', 'w') as file:\n",
    "    json.dump(data, file, indent=4)\n",
    "\n",
    "print(\"Target disesuaikan berdasarkan kebutuhan normal!\")"
   ]
  },
  {
   "cell_type": "code",
   "execution_count": 16,
   "metadata": {},
   "outputs": [
    {
     "name": "stdout",
     "output_type": "stream",
     "text": [
      "Data telah berhasil diubah dan disimpan.\n"
     ]
    }
   ],
   "source": [
    "for user in user_data:\n",
    "    # Mengubah tall, weight, dan age dari string menjadi float/int jika perlu\n",
    "    try:\n",
    "        if isinstance(user['tall'], str):\n",
    "            user['tall'] = float(user['tall'].replace(' cm', '').strip())\n",
    "        if isinstance(user['weight'], str):\n",
    "            user['weight'] = float(user['weight'].replace(' kg', '').strip())\n",
    "        if isinstance(user['age'], str):\n",
    "            user['age'] = int(user['age'])\n",
    "    except ValueError as e:\n",
    "        print(f\"Error converting data for user {user}: {e}\")\n",
    "\n",
    "# Menyimpan kembali data yang telah dimodifikasi ke file JSON\n",
    "with open(file_path, 'w') as file:\n",
    "    json.dump(user_data, file, indent=4)\n",
    "\n",
    "print(\"Data telah berhasil diubah dan disimpan.\")"
   ]
  }
 ],
 "metadata": {
  "kernelspec": {
   "display_name": "Python 3",
   "language": "python",
   "name": "python3"
  },
  "language_info": {
   "codemirror_mode": {
    "name": "ipython",
    "version": 3
   },
   "file_extension": ".py",
   "mimetype": "text/x-python",
   "name": "python",
   "nbconvert_exporter": "python",
   "pygments_lexer": "ipython3",
   "version": "3.9.12"
  }
 },
 "nbformat": 4,
 "nbformat_minor": 2
}
