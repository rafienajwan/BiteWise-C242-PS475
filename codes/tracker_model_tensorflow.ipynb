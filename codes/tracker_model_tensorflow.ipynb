{
 "cells": [
  {
   "cell_type": "code",
   "execution_count": 2,
   "metadata": {},
   "outputs": [],
   "source": [
    "import tensorflow as tf\n",
    "import numpy as np\n",
    "import json\n",
    "import datetime\n",
    "import os"
   ]
  },
  {
   "cell_type": "code",
   "execution_count": 3,
   "metadata": {},
   "outputs": [],
   "source": [
    "# Path file tracker_memory.json\n",
    "TRACKER_FILE_PATH = \"result/tracker_memory.json\""
   ]
  },
  {
   "cell_type": "code",
   "execution_count": 4,
   "metadata": {},
   "outputs": [],
   "source": [
    "# Data Dummy untuk train\n",
    "data = np.array([\n",
    "    [170, 70, 25, 1],  # tinggi, berat, usia, gender (1: male, 0: female)\n",
    "    [160, 55, 30, 0],\n",
    "    [180, 80, 22, 1],\n",
    "    [165, 60, 40, 0],\n",
    "    [175, 75, 35, 1]\n",
    "])\n",
    "\n",
    "labels = np.array([\n",
    "    [2000, 112],  # kalori, protein\n",
    "    [1800, 88],\n",
    "    [2500, 128],\n",
    "    [1500, 72],\n",
    "    [2200, 120]\n",
    "])\n"
   ]
  },
  {
   "cell_type": "code",
   "execution_count": 5,
   "metadata": {},
   "outputs": [],
   "source": [
    "# Membuat Model TensorFlow\n",
    "def build_tracker_model():\n",
    "    model = tf.keras.Sequential([\n",
    "        tf.keras.layers.Dense(16, activation=\"relu\", input_shape=(4,)),  # Input: height, weight, age, gender\n",
    "        tf.keras.layers.Dense(8, activation=\"relu\"),\n",
    "        tf.keras.layers.Dense(2, activation=\"linear\")  # Output: calories, protein\n",
    "    ])\n",
    "    model.compile(optimizer=\"adam\", loss=\"mse\", metrics=[\"mae\"])\n",
    "    return model\n",
    "\n",
    "# Latih Model\n",
    "model = build_tracker_model()\n",
    "model.fit(data, labels, epochs=100, verbose=0)\n",
    "\n",
    "# Simpan Model ke File\n",
    "model.save(\"tracker_model.h5\")"
   ]
  },
  {
   "cell_type": "code",
   "execution_count": 9,
   "metadata": {},
   "outputs": [],
   "source": [
    "# Fungsi untuk Prediksi\n",
    "def predict_daily_targets(height_cm, weight_kg, age, gender):\n",
    "    model = load_tracker_model()\n",
    "    input_data = np.array([[height_cm, weight_kg, age, 1 if gender.lower() == \"male\" else 0]])\n",
    "    prediction = model.predict(input_data)\n",
    "    return {\"calories\": int(prediction[0][0]), \"protein\": int(prediction[0][1])}\n",
    "\n",
    "# Fungsi untuk Menyimpan Data User\n",
    "def add_food_entry(food_name, calories, protein, fat, carbs, user_id=1):\n",
    "    entry = {\n",
    "        \"food_name\": food_name,\n",
    "        \"calories\": calories,\n",
    "        \"protein\": protein,\n",
    "        \"fat\": fat,\n",
    "        \"carbohydrate\": carbs,\n",
    "        \"timestamp\": datetime.datetime.now().isoformat(),\n",
    "        \"user_id\": user_id\n",
    "    }\n",
    "    # Load existing tracker memory\n",
    "    if os.path.exists(TRACKER_FILE_PATH):\n",
    "        with open(TRACKER_FILE_PATH, \"r\") as f:\n",
    "            tracker_memory = json.load(f)\n",
    "    else:\n",
    "        tracker_memory = {}\n",
    "\n",
    "    # Tambahkan entri berdasarkan tanggal\n",
    "    date_key = datetime.datetime.now().strftime(\"%Y-%m-%d\")\n",
    "    if date_key not in tracker_memory:\n",
    "        tracker_memory[date_key] = []\n",
    "    tracker_memory[date_key].append(entry)\n",
    "\n",
    "    # Simpan kembali ke file\n",
    "    with open(TRACKER_FILE_PATH, \"w\") as f:\n",
    "        json.dump(tracker_memory, f, indent=4)\n",
    "\n",
    "    return entry"
   ]
  },
  {
   "cell_type": "code",
   "execution_count": 11,
   "metadata": {},
   "outputs": [],
   "source": [
    "# Fungsi untuk Mendapatkan Total Nutrisi Harian\n",
    "def get_daily_totals(user_id=1):\n",
    "    date_key = datetime.datetime.now().strftime(\"%Y-%m-%d\")\n",
    "\n",
    "    if os.path.exists(TRACKER_FILE_PATH):\n",
    "        with open(TRACKER_FILE_PATH, \"r\") as f:\n",
    "            tracker_memory = json.load(f)\n",
    "    else:\n",
    "        return {\"calories\": 0, \"protein\": 0, \"fat\": 0, \"carbohydrate\": 0}\n",
    "\n",
    "    if date_key not in tracker_memory:\n",
    "        return {\"calories\": 0, \"protein\": 0, \"fat\": 0, \"carbohydrate\": 0}\n",
    "\n",
    "    totals = {\"calories\": 0, \"protein\": 0, \"fat\": 0, \"carbohydrate\": 0}\n",
    "    for entry in tracker_memory[date_key]:\n",
    "        if entry.get(\"user_id\") == user_id:\n",
    "            totals[\"calories\"] += entry[\"calories\"]\n",
    "            totals[\"protein\"] += entry[\"protein\"]\n",
    "            totals[\"fat\"] += entry[\"fat\"]\n",
    "            totals[\"carbohydrate\"] += entry[\"carbohydrate\"]\n",
    "\n",
    "    return totals"
   ]
  }
 ],
 "metadata": {
  "kernelspec": {
   "display_name": "Python 3",
   "language": "python",
   "name": "python3"
  },
  "language_info": {
   "codemirror_mode": {
    "name": "ipython",
    "version": 3
   },
   "file_extension": ".py",
   "mimetype": "text/x-python",
   "name": "python",
   "nbconvert_exporter": "python",
   "pygments_lexer": "ipython3",
   "version": "3.9.12"
  }
 },
 "nbformat": 4,
 "nbformat_minor": 2
}
