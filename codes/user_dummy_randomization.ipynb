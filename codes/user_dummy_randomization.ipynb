{
 "cells": [
  {
   "cell_type": "code",
   "execution_count": 4,
   "metadata": {},
   "outputs": [
    {
     "name": "stdout",
     "output_type": "stream",
     "text": [
      "Data has been saved to user_data.json\n"
     ]
    }
   ],
   "source": [
    "import json\n",
    "import random\n",
    "import uuid\n",
    "\n",
    "def generate_random_user():\n",
    "    data = {\n",
    "        \"name\": f\"User{random.randint(1, 1000)}\",\n",
    "        \"email\": f\"user{random.randint(1, 1000)}@example.com\",\n",
    "        \"password\": f\"Pass{random.randint(1000, 9999)}\",\n",
    "        \"profilePicture\": f\"https://example.com/profile/{uuid.uuid4().hex}.jpg\",\n",
    "        \"goal\": random.choice([\"gain weight\", \"lose weight\", \"maintain weight\"]),\n",
    "        \"gender\": random.choice([\"male\", \"female\"]),\n",
    "        \"ActiveLevel\": random.choice([\"sedentary\", \"lightly active\", \"active\", \"very active\"]),\n",
    "        \"tall\": f\"{random.randint(150, 200)} cm\",\n",
    "        \"weight\": f\"{random.randint(40, 100)} kg\",\n",
    "        \"age\": str(random.randint(18, 60))\n",
    "    }\n",
    "    return data\n",
    "\n",
    "# Generate 265 random user datasets\n",
    "datasets = [generate_random_user() for _ in range(265)]\n",
    "\n",
    "# Write datasets to a file\n",
    "with open(\"../result/user_data.json\", \"w\") as file:\n",
    "    json.dump(datasets, file, indent=4)\n",
    "\n",
    "print(\"Data has been saved to user_data.json\")\n"
   ]
  }
 ],
 "metadata": {
  "kernelspec": {
   "display_name": "Python 3",
   "language": "python",
   "name": "python3"
  },
  "language_info": {
   "codemirror_mode": {
    "name": "ipython",
    "version": 3
   },
   "file_extension": ".py",
   "mimetype": "text/x-python",
   "name": "python",
   "nbconvert_exporter": "python",
   "pygments_lexer": "ipython3",
   "version": "3.9.12"
  }
 },
 "nbformat": 4,
 "nbformat_minor": 2
}
