{
 "cells": [
  {
   "cell_type": "code",
   "execution_count": 5,
   "metadata": {},
   "outputs": [
    {
     "name": "stdout",
     "output_type": "stream",
     "text": [
      "Data has been saved to user_data.json\n"
     ]
    }
   ],
   "source": [
    "import json\n",
    "import uuid\n",
    "\n",
    "def generate_random_user(user_id):\n",
    "  \"\"\"\n",
    "  Generates a user data dictionary with a sequential user_name\n",
    "  and unique email addresses.\n",
    "\n",
    "  Args:\n",
    "      user_id (int): User identifier (1-1000)\n",
    "\n",
    "  Returns:\n",
    "      dict: User data dictionary\n",
    "  \"\"\"\n",
    "\n",
    "  # Ensure user_id is within the desired range (1-1000)\n",
    "  if not 1 <= user_id <= 1000:\n",
    "    raise ValueError(\"user_id must be between 1 and 1000\")\n",
    "\n",
    "  # Generate username with sequential numbering\n",
    "  user_name = f\"User{user_id}\"\n",
    "\n",
    "  # Generate unique email using f-string formatting and a set\n",
    "  email_set = set()  # Store used email addresses to ensure uniqueness\n",
    "  while True:\n",
    "    email = f\"user{user_id}@{random.choice(['gmail.com', 'yahoo.com', 'outlook.com'])}\"\n",
    "    if email not in email_set:\n",
    "      email_set.add(email)\n",
    "      break\n",
    "\n",
    "  # Generate remaining user data\n",
    "  password = f\"Pass{random.randint(1000, 9999)}\"\n",
    "  profilePicture = f\"https://example.com/profile/{uuid.uuid4().hex}.jpg\"\n",
    "  goal = random.choice([\"gain weight\", \"lose weight\", \"maintain weight\"])\n",
    "  gender = random.choice([\"male\", \"female\"])\n",
    "  ActiveLevel = random.choice([\"sedentary\", \"lightly active\", \"active\", \"very active\"])\n",
    "  tall = f\"{random.randint(150, 200)} cm\"\n",
    "  weight = f\"{random.randint(40, 100)} kg\"\n",
    "  age = str(random.randint(18, 60))\n",
    "\n",
    "  data = {\n",
    "      \"user_name\": user_name,\n",
    "      \"email\": email,\n",
    "      \"password\": password,\n",
    "      \"profilePicture\": profilePicture,\n",
    "      \"goal\": goal,\n",
    "      \"gender\": gender,\n",
    "      \"ActiveLevel\": ActiveLevel,\n",
    "      \"tall\": tall,\n",
    "      \"weight\": weight,\n",
    "      \"age\": age\n",
    "  }\n",
    "\n",
    "  return data\n",
    "\n",
    "# Generate 265 user datasets with sequential user_id\n",
    "datasets = [generate_random_user(i) for i in range(1, 1001)]\n",
    "\n",
    "# Write datasets to a file\n",
    "with open(\"../result/user_data.json\", \"w\") as file:\n",
    "  json.dump(datasets, file, indent=4)\n",
    "\n",
    "print(\"Data has been saved to user_data.json\")"
   ]
  }
 ],
 "metadata": {
  "kernelspec": {
   "display_name": "Python 3",
   "language": "python",
   "name": "python3"
  },
  "language_info": {
   "codemirror_mode": {
    "name": "ipython",
    "version": 3
   },
   "file_extension": ".py",
   "mimetype": "text/x-python",
   "name": "python",
   "nbconvert_exporter": "python",
   "pygments_lexer": "ipython3",
   "version": "3.9.12"
  }
 },
 "nbformat": 4,
 "nbformat_minor": 2
}
