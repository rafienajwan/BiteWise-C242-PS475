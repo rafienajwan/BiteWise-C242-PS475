{
 "cells": [
  {
   "cell_type": "code",
   "execution_count": 1,
   "metadata": {},
   "outputs": [],
   "source": [
    "import pandas as pd\n",
    "import json"
   ]
  },
  {
   "cell_type": "code",
   "execution_count": 7,
   "metadata": {},
   "outputs": [
    {
     "data": {
      "text/html": [
       "<div>\n",
       "<style scoped>\n",
       "    .dataframe tbody tr th:only-of-type {\n",
       "        vertical-align: middle;\n",
       "    }\n",
       "\n",
       "    .dataframe tbody tr th {\n",
       "        vertical-align: top;\n",
       "    }\n",
       "\n",
       "    .dataframe thead th {\n",
       "        text-align: right;\n",
       "    }\n",
       "</style>\n",
       "<table border=\"1\" class=\"dataframe\">\n",
       "  <thead>\n",
       "    <tr style=\"text-align: right;\">\n",
       "      <th></th>\n",
       "      <th>id</th>\n",
       "      <th>calories</th>\n",
       "      <th>proteins</th>\n",
       "      <th>fat</th>\n",
       "      <th>carbohydrate</th>\n",
       "      <th>name</th>\n",
       "      <th>image</th>\n",
       "    </tr>\n",
       "  </thead>\n",
       "  <tbody>\n",
       "    <tr>\n",
       "      <th>0</th>\n",
       "      <td>1</td>\n",
       "      <td>280.0</td>\n",
       "      <td>9.2</td>\n",
       "      <td>28.4</td>\n",
       "      <td>0.0</td>\n",
       "      <td>Abon</td>\n",
       "      <td>https://img-cdn.medkomtek.com/PbrY9X3ignQ8sVuj...</td>\n",
       "    </tr>\n",
       "    <tr>\n",
       "      <th>1</th>\n",
       "      <td>2</td>\n",
       "      <td>513.0</td>\n",
       "      <td>23.7</td>\n",
       "      <td>37.0</td>\n",
       "      <td>21.3</td>\n",
       "      <td>Abon haruwan</td>\n",
       "      <td>https://img-global.cpcdn.com/recipes/cbf330fbd...</td>\n",
       "    </tr>\n",
       "    <tr>\n",
       "      <th>2</th>\n",
       "      <td>3</td>\n",
       "      <td>0.0</td>\n",
       "      <td>0.0</td>\n",
       "      <td>0.2</td>\n",
       "      <td>0.0</td>\n",
       "      <td>Agar-agar</td>\n",
       "      <td>https://res.cloudinary.com/dk0z4ums3/image/upl...</td>\n",
       "    </tr>\n",
       "    <tr>\n",
       "      <th>3</th>\n",
       "      <td>4</td>\n",
       "      <td>45.0</td>\n",
       "      <td>1.1</td>\n",
       "      <td>0.4</td>\n",
       "      <td>10.8</td>\n",
       "      <td>Akar tonjong segar</td>\n",
       "      <td>https://images.tokopedia.net/img/cache/200-squ...</td>\n",
       "    </tr>\n",
       "    <tr>\n",
       "      <th>4</th>\n",
       "      <td>5</td>\n",
       "      <td>37.0</td>\n",
       "      <td>4.4</td>\n",
       "      <td>0.5</td>\n",
       "      <td>3.8</td>\n",
       "      <td>Aletoge segar</td>\n",
       "      <td>https://nilaigizi.com/assets/images/produk/pro...</td>\n",
       "    </tr>\n",
       "  </tbody>\n",
       "</table>\n",
       "</div>"
      ],
      "text/plain": [
       "   id  calories  proteins   fat  carbohydrate                name  \\\n",
       "0   1     280.0       9.2  28.4           0.0                Abon   \n",
       "1   2     513.0      23.7  37.0          21.3        Abon haruwan   \n",
       "2   3       0.0       0.0   0.2           0.0           Agar-agar   \n",
       "3   4      45.0       1.1   0.4          10.8  Akar tonjong segar   \n",
       "4   5      37.0       4.4   0.5           3.8       Aletoge segar   \n",
       "\n",
       "                                               image  \n",
       "0  https://img-cdn.medkomtek.com/PbrY9X3ignQ8sVuj...  \n",
       "1  https://img-global.cpcdn.com/recipes/cbf330fbd...  \n",
       "2  https://res.cloudinary.com/dk0z4ums3/image/upl...  \n",
       "3  https://images.tokopedia.net/img/cache/200-squ...  \n",
       "4  https://nilaigizi.com/assets/images/produk/pro...  "
      ]
     },
     "execution_count": 7,
     "metadata": {},
     "output_type": "execute_result"
    }
   ],
   "source": [
    "file_path = \"data/Nutrition/nutrition.csv\"\n",
    "df = pd.read_csv(file_path)\n",
    "df.head() "
   ]
  },
  {
   "cell_type": "code",
   "execution_count": 11,
   "metadata": {},
   "outputs": [],
   "source": [
    "# Mengonversi dataset ke format JSON \n",
    "data_json = df.to_dict(orient=\"records\")"
   ]
  },
  {
   "cell_type": "code",
   "execution_count": 18,
   "metadata": {},
   "outputs": [],
   "source": [
    "# Menyimpan data dalam format JSON ke file\n",
    "json_file_path = \"food_data.json\"\n",
    "with open(json_file_path, \"w\") as json_file:\n",
    "    json.dump(data_json, json_file, indent=4)"
   ]
  },
  {
   "cell_type": "code",
   "execution_count": 19,
   "metadata": {},
   "outputs": [
    {
     "name": "stdout",
     "output_type": "stream",
     "text": [
      "[{'id': 1, 'calories': 280.0, 'proteins': 9.2, 'fat': 28.4, 'carbohydrate': 0.0, 'name': 'Abon', 'image': 'https://img-cdn.medkomtek.com/PbrY9X3ignQ8sVuj_LU9UXljyew=/0x0/smart/filters:quality(75):strip_icc():format(webp)/article/7g8ceHGDNMuttlBcXEl8d/original/099726800_1605161502-Mana-yang-Lebih-Sehat-Abon-Sapi-atau-Abon-Ayam-shutterstock_1361446550.jpg'}, {'id': 2, 'calories': 513.0, 'proteins': 23.7, 'fat': 37.0, 'carbohydrate': 21.3, 'name': 'Abon haruwan', 'image': 'https://img-global.cpcdn.com/recipes/cbf330fbd1ba6316/1200x630cq70/photo.jpg'}]\n"
     ]
    }
   ],
   "source": [
    "with open(json_file_path, \"r\") as json_file:\n",
    "    data_loaded = json.load(json_file)\n",
    "    print(data_loaded[:2])"
   ]
  }
 ],
 "metadata": {
  "kernelspec": {
   "display_name": "Python 3",
   "language": "python",
   "name": "python3"
  },
  "language_info": {
   "codemirror_mode": {
    "name": "ipython",
    "version": 3
   },
   "file_extension": ".py",
   "mimetype": "text/x-python",
   "name": "python",
   "nbconvert_exporter": "python",
   "pygments_lexer": "ipython3",
   "version": "3.9.12"
  }
 },
 "nbformat": 4,
 "nbformat_minor": 2
}
