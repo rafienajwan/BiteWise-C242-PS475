{
 "cells": [
  {
   "cell_type": "code",
   "execution_count": null,
   "metadata": {},
   "outputs": [],
   "source": [
    "import json\n",
    "from datetime import datetime\n",
    "from collections import defaultdict"
   ]
  },
  {
   "cell_type": "code",
   "execution_count": null,
   "metadata": {},
   "outputs": [
    {
     "name": "stdout",
     "output_type": "stream",
     "text": [
      "File result/tracker_memory.json berhasil dibuat.\n"
     ]
    }
   ],
   "source": [
    "\n",
    "tracker_file = \"result/tracker_memory.json\"\n"
   ]
  },
  {
   "cell_type": "code",
   "execution_count": 3,
   "metadata": {},
   "outputs": [],
   "source": [
    "# Step 1: Hitung kebutuhan kalori default berdasarkan input user\n",
    "def calculate_daily_targets(gender, weight_kg, height_cm, age, activity_level=\"sedentary\"):\n",
    "    \"\"\"\n",
    "    Hitung target kalori dan protein harian default berdasarkan BMI dan TDEE.\n",
    "    Args:\n",
    "        gender (str): \"male\" atau \"female\"\n",
    "        weight_kg (float): Berat badan dalam kg\n",
    "        height_cm (float): Tinggi badan dalam cm\n",
    "        age (int): Usia dalam tahun\n",
    "        activity_level (str): Tingkat aktivitas (\"sedentary\", \"moderate\", \"active\")\n",
    "\n",
    "    Returns:\n",
    "        dict: Target harian default (calories, protein)\n",
    "    \"\"\"\n",
    "    # BMR calculation using Harris-Benedict formula\n",
    "    if gender.lower() == \"male\":\n",
    "        bmr = 10 * weight_kg + 6.25 * height_cm - 5 * age + 5\n",
    "    else:\n",
    "        bmr = 10 * weight_kg + 6.25 * height_cm - 5 * age - 161\n",
    "\n",
    "    # TDEE multiplier based on activity level\n",
    "    activity_multipliers = {\n",
    "        \"sedentary\": 1.2,\n",
    "        \"moderate\": 1.55,\n",
    "        \"active\": 1.75\n",
    "    }\n",
    "    tdee = bmr * activity_multipliers.get(activity_level, 1.2)\n",
    "\n",
    "    # Protein target (1.2g per kg of body weight as standard)\n",
    "    protein_target = 1.2 * weight_kg\n",
    "\n",
    "    return {\n",
    "        \"calories\": round(tdee, 2),\n",
    "        \"protein\": round(protein_target, 2)\n",
    "    }"
   ]
  },
  {
   "cell_type": "code",
   "execution_count": 6,
   "metadata": {},
   "outputs": [],
   "source": [
    "# Step 2: Masukkan input makanan dari user\n",
    "def add_food_input(food_name, calories, protein, fat, carbs):\n",
    "    \"\"\"\n",
    "    Menambahkan input makanan ke tracker memory.\n",
    "    Args:\n",
    "        food_name (str): Nama makanan\n",
    "        calories (float): Jumlah kalori\n",
    "        protein (float): Jumlah protein\n",
    "        fat (float): Jumlah lemak\n",
    "        carbs (float): Jumlah karbohidrat\n",
    "    \"\"\"\n",
    "    # Waktu input\n",
    "    now = datetime.now()\n",
    "    date_str = now.strftime(\"%Y-%m-%d\")  # Hanya tanggal\n",
    "    time_str = now.strftime(\"%H:%M:%S\")  # Jam, menit, detik\n",
    "\n",
    "    # Buat data makanan\n",
    "    food_data = {\n",
    "        \"food_name\": food_name,\n",
    "        \"calories\": calories,\n",
    "        \"protein\": protein,\n",
    "        \"fat\": fat,\n",
    "        \"carbs\": carbs,\n",
    "        \"time\": time_str\n",
    "    }\n",
    " # Load tracker memory\n",
    "    try:\n",
    "        with open(tracker_file, \"r\") as file:\n",
    "            tracker_memory = json.load(file)\n",
    "    except FileNotFoundError:\n",
    "        tracker_memory = defaultdict(list)\n",
    "\n",
    "    # Tambahkan data ke tanggal yang sesuai\n",
    "    tracker_memory[date_str].append(food_data)\n",
    "\n",
    "    # Simpan kembali ke file\n",
    "    with open(tracker_file, \"w\") as file:\n",
    "        json.dump(tracker_memory, file, indent=4)\n",
    "\n",
    "    print(f\"Data untuk {food_name} berhasil ditambahkan.\")"
   ]
  },
  {
   "cell_type": "code",
   "execution_count": 7,
   "metadata": {},
   "outputs": [],
   "source": [
    "# Step 3: Akumulasi total harian\n",
    "def calculate_daily_totals(date):\n",
    "    \"\"\"\n",
    "    Hitung total kalori dan nutrisi pada tanggal tertentu.\n",
    "    Args:\n",
    "        date (str): Tanggal dalam format YYYY-MM-DD\n",
    "\n",
    "    Returns:\n",
    "        dict: Total nutrisi harian (calories, protein, fat, carbs)\n",
    "    \"\"\"\n",
    "    try:\n",
    "        with open(tracker_file, \"r\") as file:\n",
    "            tracker_memory = json.load(file)\n",
    "    except FileNotFoundError:\n",
    "        print(\"Tracker memory kosong.\")\n",
    "        return {}\n",
    "\n",
    "    # Ambil data untuk tanggal yang sesuai\n",
    "    daily_data = tracker_memory.get(date, [])\n",
    "    totals = {\n",
    "        \"calories\": 0.0,\n",
    "        \"protein\": 0.0,\n",
    "        \"fat\": 0.0,\n",
    "        \"carbs\": 0.0\n",
    "    }\n",
    "\n",
    "    for food in daily_data:\n",
    "        totals[\"calories\"] += food[\"calories\"]\n",
    "        totals[\"protein\"] += food[\"protein\"]\n",
    "        totals[\"fat\"] += food[\"fat\"]\n",
    "        totals[\"carbs\"] += food[\"carbs\"]\n",
    "\n",
    "    return {key: round(value, 2) for key, value in totals.items()}\n"
   ]
  }
 ],
 "metadata": {
  "kernelspec": {
   "display_name": "Python 3",
   "language": "python",
   "name": "python3"
  },
  "language_info": {
   "codemirror_mode": {
    "name": "ipython",
    "version": 3
   },
   "file_extension": ".py",
   "mimetype": "text/x-python",
   "name": "python",
   "nbconvert_exporter": "python",
   "pygments_lexer": "ipython3",
   "version": "3.9.12"
  }
 },
 "nbformat": 4,
 "nbformat_minor": 2
}
